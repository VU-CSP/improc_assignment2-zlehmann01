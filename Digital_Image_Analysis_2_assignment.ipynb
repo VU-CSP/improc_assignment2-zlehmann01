{
 "cells": [
  {
   "cell_type": "markdown",
   "id": "6531908e",
   "metadata": {},
   "source": [
    "# Image Processing & Analysis Assignment #2\n",
    "\n",
    "## Summary of tasks (repeated within each section)\n",
    "### You will need to perform the following Tasks:  \n",
    "\n",
    "-----  \n",
    "\n",
    "#### Using `image_cell.tif`\n",
    "**Task 1.**  \n",
    "    \n",
    "   From the downloaded image (`img`; file = `image_cell.tif`), make an image `img1` from just the red channel (channel 0) at time point 23 of the tensor [T,Y,X,C]  \n",
    "\n",
    "**Task 2.**  \n",
    "\n",
    "   Using `img1`, create a new image `img2` where values less than than the mean are set to the background value (calculated as the minimum intensity value in the image).  \n",
    "\n",
    "**Task 3.**  \n",
    "\n",
    "   - Set `img2[0:20,0:20] = np.amax(img2)` (Make a white box in the image to more easily visualize the transformation)  \n",
    "   - Compress `img2` in half, rotate it 30 degrees clockwise, and translate its `(0,0)` to `(dx,dy)=(200,100)`  \n",
    "   - Save resulting image as `img3`  \n",
    "   - Plot `img3` side-by-side with `img2`  \n",
    "\n",
    "**Task 4.**  **EXTRA CREDIT**  \n",
    "\n",
    "   - Build a slider function to display different frames of an RGB image over time.  \n",
    "   - Consider 3 subplots for: 'RED', 'GREEN', 'BLUE' channels\n",
    "   - Make the interactive slider for time: int with range 0 to the number of frames in video. \n",
    "\n",
    "-----  \n",
    "#### Using `FISH_example.tif`\n",
    "**Task 5.**  \n",
    "\n",
    "   - Make a slice of `img_FISH` and save as `img_FISH_slice` using: `Z=10`, `Y=120:350`, `X=50:250`  \n",
    "   - Apply a Gaussian filter to `img_FISH_slice` with `sigma=1` and save it as `img_gaussian_filter_simga_1`\n",
    "   - Make difference of Gaussians filter of `img_FISH_slice` using `low_sigma=1` and `high_sigma=5` and `img_diff_gaussians`\n",
    "   - Plot all 3 images side-by-side (in 3 subplots).  \n",
    "    \n",
    "-----"
   ]
  },
  {
   "cell_type": "markdown",
   "id": "8b448ed2-7ca9-4b42-bd44-1ff39a36c994",
   "metadata": {},
   "source": [
    "## Loading libraries"
   ]
  },
  {
   "cell_type": "code",
   "execution_count": null,
   "id": "c8cf520e",
   "metadata": {},
   "outputs": [],
   "source": [
    "# Load libraries\n",
    "import matplotlib.pyplot as plt # Library used for plotting\n",
    "from matplotlib.patches import Rectangle # module to plot a rectangle in the image\n",
    "import numpy as np # library for array manipulation\n",
    "import seaborn as sn # plotting library\n",
    "import pandas as pd # data frames library\n",
    "import tifffile # library to store numpy arrays in TIFF\n",
    "import skimage # Library for image manipulation\n",
    "from skimage.io import imread # sublibrary from skimage\n",
    "from scipy.ndimage import gaussian_filter\n",
    "from skimage.filters import difference_of_gaussians\n",
    "from skimage import transform\n",
    "import os"
   ]
  },
  {
   "cell_type": "code",
   "execution_count": null,
   "id": "a9ddaede",
   "metadata": {},
   "outputs": [],
   "source": [
    "import ipywidgets as widgets # Importing library\n",
    "from ipywidgets import interact, interactive, HBox, Layout, VBox #  importing modules and functions."
   ]
  },
  {
   "cell_type": "markdown",
   "id": "87e27dba",
   "metadata": {},
   "source": [
    "For those using jupyter notebook, you may need to install ffmpeg using the following command from the terminal: \n",
    "    \n",
    "    `conda install -c conda-forge ffmpeg`"
   ]
  },
  {
   "cell_type": "markdown",
   "id": "bcab7cb7-9fe7-4ade-bbd4-df56d3faf694",
   "metadata": {},
   "source": [
    "## Download image files\n",
    "Do NOT push the image files to your GitHub repository! This notebook with the rendered images is okay."
   ]
  },
  {
   "cell_type": "code",
   "execution_count": null,
   "id": "7433390c-add4-4d48-ac40-89ed3e451188",
   "metadata": {},
   "outputs": [],
   "source": [
    "if not os.path.exists(\"./FISH_example.tif\"):\n",
    "   !wget -O FISH_example.tif \"https://www.dropbox.com/s/669j6zags6xd7gr/FISH_example.tif?dl=1\""
   ]
  },
  {
   "cell_type": "code",
   "execution_count": null,
   "id": "1a1f60e5-cf6d-46f3-9688-c3637ba2cad4",
   "metadata": {},
   "outputs": [],
   "source": [
    "if not os.path.exists(\"./image_cell.tif\"):\n",
    "    !wget -O image_cell.tif https://ndownloader.figshare.com/files/26751209"
   ]
  },
  {
   "cell_type": "code",
   "execution_count": null,
   "id": "9a4b5224-fc61-4365-9181-f612e0e30a10",
   "metadata": {},
   "outputs": [],
   "source": [
    "# reading the image and saving as variable img\n",
    "img = imread('./image_cell.tif')\n",
    "img.shape"
   ]
  },
  {
   "cell_type": "code",
   "execution_count": null,
   "id": "377961d2",
   "metadata": {
    "scrolled": true
   },
   "outputs": [],
   "source": [
    "# Task 1\n",
    "## make an image `img1` from just the red channel (channel 0) at time point 23 of the tensor [T,Y,X,C]  \n",
    "\n",
    "# add your code here\n",
    "img1 = img[0,:,:,:] # change as appropriate\n",
    "\n",
    "# Task 2\n",
    "## Using `img1`, create a new image `img2` where values less than than the mean are set to the \n",
    "## background value (calculated as the minimum intensity value in the image).\n",
    "\n",
    "img2 = img1 # change as appropriate\n",
    "\n",
    "# plot the results\n",
    "# Side-by-side comparizon\n",
    "fig, ax = plt.subplots(1,2, figsize=(15, 7))\n",
    "ax[0].imshow(img1,cmap='gray')\n",
    "ax[0].set(title='Original')\n",
    "\n",
    "ax[1].imshow(img2,cmap='gray')\n",
    "ax[1].set_title('Threshold')\n",
    "plt.show()"
   ]
  },
  {
   "cell_type": "markdown",
   "id": "6ad52dcc",
   "metadata": {},
   "source": [
    "### Task 3.  \n",
    "\n",
    "   - Set `img2[0:20,0:20] = np.amax(img2)` (Make a white box in the image to more easily visualize the transformation)  \n",
    "   - Compress `img2` in half, rotate it 30 degrees clockwise, and translate its `(0,0)` to `(dx,dy)=(200,100)`  \n",
    "   - Save resulting image as `img3`  \n",
    "   - Plot `img3` side-by-side with `img2`  \n",
    "\n"
   ]
  },
  {
   "cell_type": "code",
   "execution_count": null,
   "id": "afbd3d7a",
   "metadata": {},
   "outputs": [],
   "source": [
    "# Make a white box\n",
    "\n",
    "#  transformation matrix\n",
    "tform = transform.SimilarityTransform( # modify as appropriate\n",
    "    # float, scaling value\n",
    "    # Rotation angle in counter-clockwise direction as radians. pi/180 rad = 1 degrees\n",
    "    # (dx, dy) values for translation\n",
    ")      \n",
    "print('Transformation matrix : \\n', tform.params , '\\n')\n",
    "\n",
    "# Apply the transformation\n",
    "img3 = img1 # modify as appropriate\n",
    "\n",
    "# plot the results\n",
    "# Side-by-side comparizon\n",
    "fig, ax = plt.subplots(1,2, figsize=(20, 10))\n",
    "ax[0].imshow(img2,cmap='gray')\n",
    "ax[0].set(title='Original')\n",
    "ax[1].imshow(img3,cmap='gray')\n",
    "ax[1].set_title('transformation')\n",
    "plt.show()"
   ]
  },
  {
   "cell_type": "markdown",
   "id": "9722f7af",
   "metadata": {},
   "source": [
    "### Task 4. (extra credit)  \n",
    "\n",
    "   - Build a slider function to display different frames of an RGB image over time.  \n",
    "   - Consider 3 subplots for: 'RED', 'GREEN', 'BLUE' channels\n",
    "   - Make the interactive slider for time: int with range 0 to the number of frames in video. \n",
    "\n"
   ]
  },
  {
   "cell_type": "code",
   "execution_count": null,
   "id": "8bc82a45",
   "metadata": {
    "tags": []
   },
   "outputs": [],
   "source": [
    "def video_viewer(time):\n",
    "    '''\n",
    "    This function is intended to display different frames of an RGB image over time by sliding through time  [T,Y,X,C].\n",
    "    3 subplots for: 'RED', 'GREEN', 'BLUE' channels\n",
    "    time: int with range 0 to the number of frames in video.\n",
    "    '''   \n",
    "    # modify as appropriate\n",
    "    fig,axes = plt.subplots(1,3,dpi=120,figsize=(8,3))\n",
    "    #Define subplots based on channels\n",
    "    Red = [] # set in img: timepoint=time, entire X and Y pixels, color channel: red  \n",
    "    axes[0].imshow(Red,cmap='Reds_r')\n",
    "    Green = [] # set in img: timepoint=time, entire X and Y pixels, color channel: green\n",
    "    axes[1].imshow(Green,cmap='Greens_r')\n",
    "    Blue = [] # set in img: timepoint=time, entire X and Y pixels, color channel: blue\n",
    "    axes[2].imshow(Blue,cmap='Blues_r')\n",
    "    axes[0].axis('off')\n",
    "    axes[1].axis('off')\n",
    "    axes[2].axis('off') \n",
    "    plt.show()\n",
    "\n",
    "# The code below will test your video_viewer function\n",
    "# Defining an interactive plot\n",
    "interactive_plot = interactive(video_viewer,\n",
    "                               time = widgets.IntSlider(min=0,max=img.shape[0]-1,step=1,value=0,description='Time'))       # time slider parameters\n",
    "# Creates the controls\n",
    "controls = HBox(interactive_plot.children[:-1], layout = Layout(flex_flow='row wrap'))\n",
    "\n",
    "# Creates the outputs\n",
    "output = interactive_plot.children[-1]\n",
    "\n",
    "# Display the controls and output as an interactive widget\n",
    "display(VBox([controls, output]))"
   ]
  },
  {
   "cell_type": "markdown",
   "id": "bc89d0d7",
   "metadata": {},
   "source": [
    "### Task 5.  \n",
    "\n",
    "   - Make a slice of `img_FISH` and save as `img_FISH_slice` using: `Z=10`, `Y=120:350`, `X=50:250`  \n",
    "   - Apply a Gaussian filter to `img_FISH_slice` with `sigma=1` and save it as `img_gaussian_filter_simga_1`\n",
    "   - Make difference of Gaussians filter of `img_FISH_slice` using `low_sigma=1` and `high_sigma=5` and `img_diff_gaussians`\n",
    "   - Plot all 3 images side-by-side (in 3 subplots).  \n"
   ]
  },
  {
   "cell_type": "code",
   "execution_count": null,
   "id": "b1e6e275",
   "metadata": {},
   "outputs": [],
   "source": [
    "# importing the FISH image as variable img_FISH\n",
    "img_FISH = imread('./FISH_example.tif') \n",
    "\n",
    "# Make a slice of the sequence of images\n",
    "img_FISH_slice = [] # modify as appropriate\n",
    "img_gaussian_filter_simga_1 = [] # modify as appropriate\n",
    "img_diff_gaussians = [] # modify as appropriate\n"
   ]
  },
  {
   "cell_type": "code",
   "execution_count": null,
   "id": "429cb87c",
   "metadata": {},
   "outputs": [],
   "source": [
    "# The code below should plot your results for Task 5 once the variables are defined correctly\n",
    "if img_diff_gaussians != []:\n",
    "    fig, ax = plt.subplots(1,3, figsize=(20, 10))\n",
    "    ax[0].imshow(img_FISH_slice,cmap='gray')\n",
    "    ax[0].set(title='sliced img FISH z = 10, original')\n",
    "    ax[1].imshow(img_gaussian_filter_simga_1,cmap='gray')\n",
    "    ax[1].set(title='Gaussian kernel $\\sigma$ =1')\n",
    "    ax[2].imshow(img_diff_gaussians,cmap='gray')\n",
    "    ax[2].set(title='diff Gaussian kernel $\\sigma$ =1,3')\n",
    "    plt.show()"
   ]
  },
  {
   "cell_type": "code",
   "execution_count": null,
   "id": "384ef77d-903b-40c3-aa84-cf915e77d7f7",
   "metadata": {},
   "outputs": [],
   "source": []
  }
 ],
 "metadata": {
  "kernelspec": {
   "display_name": "Python 3 (ipykernel)",
   "language": "python",
   "name": "python3"
  },
  "language_info": {
   "codemirror_mode": {
    "name": "ipython",
    "version": 3
   },
   "file_extension": ".py",
   "mimetype": "text/x-python",
   "name": "python",
   "nbconvert_exporter": "python",
   "pygments_lexer": "ipython3",
   "version": "3.9.12"
  }
 },
 "nbformat": 4,
 "nbformat_minor": 5
}
